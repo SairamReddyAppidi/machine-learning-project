{
  "nbformat": 4,
  "nbformat_minor": 0,
  "metadata": {
    "colab": {
      "provenance": []
    },
    "kernelspec": {
      "name": "python3",
      "display_name": "Python 3"
    },
    "language_info": {
      "name": "python"
    }
  },
  "cells": [
    {
      "cell_type": "markdown",
      "source": [
        "**Navies Bayes:**"
      ],
      "metadata": {
        "id": "IhMYerJL2Bir"
      }
    },
    {
      "cell_type": "markdown",
      "source": [
        "**Data Preparartion:**"
      ],
      "metadata": {
        "id": "Mc6Ysg7T2NCY"
      }
    },
    {
      "cell_type": "code",
      "execution_count": 13,
      "metadata": {
        "colab": {
          "base_uri": "https://localhost:8080/"
        },
        "id": "qqEY2ZM9Ih0F",
        "outputId": "e5cecc04-5b9d-47d7-c0b8-e7d55fa35223"
      },
      "outputs": [
        {
          "output_type": "stream",
          "name": "stdout",
          "text": [
            "Cleaned Dataset (First 10 Rows):\n",
            "   FlightDate          Airline Origin Dest  Cancelled  Diverted  CRSDepTime  \\\n",
            "0  2019-04-19  JetBlue Airways    BOS  DEN      False     False        1829   \n",
            "1  2019-04-20  JetBlue Airways    JFK  DEN      False     False        1951   \n",
            "2  2019-04-20  JetBlue Airways    BOS  DEN      False     False        1829   \n",
            "3  2019-04-21  JetBlue Airways    JFK  DEN      False     False        1951   \n",
            "4  2019-04-21  JetBlue Airways    BOS  DEN      False     False         659   \n",
            "5  2019-04-21  JetBlue Airways    BOS  DEN      False     False        1829   \n",
            "6  2019-04-22  JetBlue Airways    JFK  DEN      False     False        1951   \n",
            "7  2019-04-22  JetBlue Airways    BOS  DEN      False     False         659   \n",
            "8  2019-04-22  JetBlue Airways    BOS  DEN      False     False        1829   \n",
            "9  2019-04-23  JetBlue Airways    JFK  DEN      False     False        1951   \n",
            "\n",
            "   DepTime  DepDelayMinutes  DepDelay  ...   T2M_MIN   T2M_MAX      QV2M  \\\n",
            "0   2254.0            265.0     265.0  ...  0.489328  0.680193  0.204581   \n",
            "1   2024.0             33.0      33.0  ...  0.653148  0.764718  0.237757   \n",
            "2   1822.0              0.0      -7.0  ...  0.653148  0.764718  0.237757   \n",
            "3   2014.0             23.0      23.0  ...  0.692903  0.670521  0.363349   \n",
            "4    912.0            133.0     133.0  ...  0.692903  0.670521  0.363349   \n",
            "5   1853.0             24.0      24.0  ...  0.692903  0.670521  0.363349   \n",
            "6   1944.0              0.0      -7.0  ...  0.579242  0.469512  0.393365   \n",
            "7    654.0              0.0      -5.0  ...  0.579242  0.469512  0.393365   \n",
            "8   1943.0             74.0      74.0  ...  0.579242  0.469512  0.393365   \n",
            "9   1941.0              0.0     -10.0  ...  0.508805  0.623633  0.303318   \n",
            "\n",
            "       RH2M  PRECTOTCORR  WS10M_RANGE     WD10M  WS50M_RANGE     WD50M  \\\n",
            "0  0.243367     0.000000     0.409695  0.035794     0.423316  0.049438   \n",
            "1  0.143909     0.000000     0.258964  0.616331     0.442558  0.626124   \n",
            "2  0.143909     0.000000     0.258964  0.616331     0.442558  0.626124   \n",
            "3  0.281567     0.097610     0.142098  0.878076     0.256367  0.847191   \n",
            "4  0.281567     0.097610     0.142098  0.878076     0.256367  0.847191   \n",
            "5  0.281567     0.097610     0.142098  0.878076     0.256367  0.847191   \n",
            "6  0.649535     0.109391     0.146746  0.033277     0.138087  0.025281   \n",
            "7  0.649535     0.109391     0.146746  0.033277     0.138087  0.025281   \n",
            "8  0.649535     0.109391     0.146746  0.033277     0.138087  0.025281   \n",
            "9  0.471315     0.000673     0.079017  0.371924     0.180532  0.376966   \n",
            "\n",
            "   Airport  \n",
            "0      DEN  \n",
            "1      DEN  \n",
            "2      DEN  \n",
            "3      DEN  \n",
            "4      DEN  \n",
            "5      DEN  \n",
            "6      DEN  \n",
            "7      DEN  \n",
            "8      DEN  \n",
            "9      DEN  \n",
            "\n",
            "[10 rows x 65 columns]\n"
          ]
        }
      ],
      "source": [
        "import pandas as pd\n",
        "# Load the CSV dataset\n",
        "df = pd.read_csv(\"/content/cleaned_merged_data.csv\")\n",
        "# Check if target is usable\n",
        "df = df.dropna(subset=[\"DepDel15\"])\n",
        "df[\"DepDel15\"] = df[\"DepDel15\"].astype(int)\n",
        "#DISPLAY CLEANED DATASET HERE\n",
        "print(\"Cleaned Dataset (First 10 Rows):\")\n",
        "print(df.head(10))\n"
      ]
    },
    {
      "cell_type": "code",
      "source": [
        "# This will be common to all three models\n",
        "y = df[\"DepDel15\"]\n",
        "y.head(10)"
      ],
      "metadata": {
        "colab": {
          "base_uri": "https://localhost:8080/",
          "height": 397
        },
        "id": "aBKyDssGJGuI",
        "outputId": "0b5f60f8-a7a5-4e91-f5d2-7dbcc7b9f031"
      },
      "execution_count": 14,
      "outputs": [
        {
          "output_type": "execute_result",
          "data": {
            "text/plain": [
              "0    1\n",
              "1    1\n",
              "2    0\n",
              "3    1\n",
              "4    1\n",
              "5    1\n",
              "6    0\n",
              "7    0\n",
              "8    1\n",
              "9    0\n",
              "Name: DepDel15, dtype: int64"
            ],
            "text/html": [
              "<div>\n",
              "<style scoped>\n",
              "    .dataframe tbody tr th:only-of-type {\n",
              "        vertical-align: middle;\n",
              "    }\n",
              "\n",
              "    .dataframe tbody tr th {\n",
              "        vertical-align: top;\n",
              "    }\n",
              "\n",
              "    .dataframe thead th {\n",
              "        text-align: right;\n",
              "    }\n",
              "</style>\n",
              "<table border=\"1\" class=\"dataframe\">\n",
              "  <thead>\n",
              "    <tr style=\"text-align: right;\">\n",
              "      <th></th>\n",
              "      <th>DepDel15</th>\n",
              "    </tr>\n",
              "  </thead>\n",
              "  <tbody>\n",
              "    <tr>\n",
              "      <th>0</th>\n",
              "      <td>1</td>\n",
              "    </tr>\n",
              "    <tr>\n",
              "      <th>1</th>\n",
              "      <td>1</td>\n",
              "    </tr>\n",
              "    <tr>\n",
              "      <th>2</th>\n",
              "      <td>0</td>\n",
              "    </tr>\n",
              "    <tr>\n",
              "      <th>3</th>\n",
              "      <td>1</td>\n",
              "    </tr>\n",
              "    <tr>\n",
              "      <th>4</th>\n",
              "      <td>1</td>\n",
              "    </tr>\n",
              "    <tr>\n",
              "      <th>5</th>\n",
              "      <td>1</td>\n",
              "    </tr>\n",
              "    <tr>\n",
              "      <th>6</th>\n",
              "      <td>0</td>\n",
              "    </tr>\n",
              "    <tr>\n",
              "      <th>7</th>\n",
              "      <td>0</td>\n",
              "    </tr>\n",
              "    <tr>\n",
              "      <th>8</th>\n",
              "      <td>1</td>\n",
              "    </tr>\n",
              "    <tr>\n",
              "      <th>9</th>\n",
              "      <td>0</td>\n",
              "    </tr>\n",
              "  </tbody>\n",
              "</table>\n",
              "</div><br><label><b>dtype:</b> int64</label>"
            ]
          },
          "metadata": {},
          "execution_count": 14
        }
      ]
    },
    {
      "cell_type": "markdown",
      "source": [
        "**Multinomial Naive Bayes:**"
      ],
      "metadata": {
        "id": "o5F84bZc2iou"
      }
    },
    {
      "cell_type": "code",
      "source": [
        "from sklearn.preprocessing import LabelEncoder\n",
        "\n",
        "# Choose categorical columns\n",
        "multinom_features = ['Airline', 'Origin', 'Dest', 'DepTimeBlk', 'Month', 'DayOfWeek']\n",
        "X_multinom = df[multinom_features].astype(str)\n",
        "\n",
        "# Encode text/categorical features as integers\n",
        "label_encoders = {}\n",
        "for col in X_multinom.columns:\n",
        "    le = LabelEncoder()\n",
        "    X_multinom[col] = le.fit_transform(X_multinom[col])\n",
        "    label_encoders[col] = le\n"
      ],
      "metadata": {
        "id": "NkDaLoO8JNip"
      },
      "execution_count": 15,
      "outputs": []
    },
    {
      "cell_type": "markdown",
      "source": [
        "**Bernoulli Naives Bayes:**"
      ],
      "metadata": {
        "id": "vR-tDWmd2vNB"
      }
    },
    {
      "cell_type": "code",
      "source": [
        "# Select numeric features to binarize\n",
        "bernoulli_features = ['DepDelayMinutes', 'ArrDelayMinutes', 'Distance']\n",
        "X_bern = df[bernoulli_features].copy().fillna(df[bernoulli_features].median())\n",
        "\n",
        "# Convert to binary (1 if above median, else 0)\n",
        "for col in X_bern.columns:\n",
        "    X_bern[col] = (X_bern[col] > X_bern[col].median()).astype(int)\n"
      ],
      "metadata": {
        "id": "5svbQFEPJSWR"
      },
      "execution_count": 4,
      "outputs": []
    },
    {
      "cell_type": "markdown",
      "source": [
        "**Gaussian Navie Bayes:**"
      ],
      "metadata": {
        "id": "_iOiN6g32-pf"
      }
    },
    {
      "cell_type": "code",
      "source": [
        "# Use numeric columns directly (after filling missing values)\n",
        "gauss_features = ['DepDelayMinutes', 'Distance', 'ArrDelayMinutes', 'AirTime', 'TaxiOut', 'TaxiIn']\n",
        "X_gauss = df[gauss_features].copy().fillna(df[gauss_features].median())\n"
      ],
      "metadata": {
        "id": "vT_FxZqeJVr0"
      },
      "execution_count": 5,
      "outputs": []
    },
    {
      "cell_type": "markdown",
      "source": [
        "**Train-Test Split:**"
      ],
      "metadata": {
        "id": "n75YVtUU3SJO"
      }
    },
    {
      "cell_type": "code",
      "source": [
        "from sklearn.model_selection import train_test_split\n",
        "\n",
        "# Multinomial\n",
        "X_train_mn, X_test_mn, y_train_mn, y_test_mn = train_test_split(X_multinom, y, test_size=0.2, random_state=42)\n",
        "\n",
        "# Bernoulli\n",
        "X_train_bn, X_test_bn, y_train_bn, y_test_bn = train_test_split(X_bern, y, test_size=0.2, random_state=42)\n",
        "\n",
        "# Gaussian\n",
        "X_train_gn, X_test_gn, y_train_gn, y_test_gn = train_test_split(X_gauss, y, test_size=0.2, random_state=42)\n"
      ],
      "metadata": {
        "id": "NB3JFXjsJYEr"
      },
      "execution_count": 6,
      "outputs": []
    },
    {
      "cell_type": "code",
      "source": [
        "# View the top 5 rows\n",
        "print(\"Multinomial NB Features:\")\n",
        "print(X_train_mn.head())\n",
        "\n",
        "print(\"\\nBernoulli NB Features:\")\n",
        "print(X_train_bn.head())\n",
        "\n",
        "print(\"\\nGaussian NB Features:\")\n",
        "print(X_train_gn.head())\n",
        "\n",
        "print(\"\\nSample Target Values:\")\n",
        "print(y_train_mn.head())\n"
      ],
      "metadata": {
        "colab": {
          "base_uri": "https://localhost:8080/"
        },
        "id": "zqHjFOMWJbcZ",
        "outputId": "8ffe4a60-e830-4e31-fb29-7f4768d4417c"
      },
      "execution_count": 7,
      "outputs": [
        {
          "output_type": "stream",
          "name": "stdout",
          "text": [
            "Multinomial NB Features:\n",
            "        Airline  Origin  Dest  DepTimeBlk  Month  DayOfWeek\n",
            "154306       15      60     0           5      3          6\n",
            "272581       15      28     0          10      0          2\n",
            "146735       11      36     0           2      3          0\n",
            "102246       12      63     0           8     11          2\n",
            "64063        11       8     0          11     10          1\n",
            "\n",
            "Bernoulli NB Features:\n",
            "        DepDelayMinutes  ArrDelayMinutes  Distance\n",
            "154306                0                0         1\n",
            "272581                0                0         0\n",
            "146735                0                1         0\n",
            "102246                0                0         0\n",
            "64063                 1                0         0\n",
            "\n",
            "Gaussian NB Features:\n",
            "        DepDelayMinutes  Distance  ArrDelayMinutes  AirTime  TaxiOut  TaxiIn\n",
            "154306              0.0    1703.0              0.0    226.0     11.0     4.0\n",
            "272581              0.0     524.0              0.0     66.0      9.0    11.0\n",
            "146735              0.0      73.0             25.0     23.0     54.0    10.0\n",
            "102246              0.0     836.0              0.0    105.0      9.0     5.0\n",
            "64063               9.0     519.0              0.0     80.0     14.0     9.0\n",
            "\n",
            "Sample Target Values:\n",
            "154306    0\n",
            "272581    0\n",
            "146735    0\n",
            "102246    0\n",
            "64063     0\n",
            "Name: DepDel15, dtype: int64\n"
          ]
        }
      ]
    },
    {
      "cell_type": "code",
      "source": [
        "from sklearn.naive_bayes import MultinomialNB, BernoulliNB, GaussianNB\n",
        "from sklearn.metrics import accuracy_score, confusion_matrix, classification_report\n",
        "import matplotlib.pyplot as plt\n",
        "import seaborn as sns\n",
        "import numpy as np\n"
      ],
      "metadata": {
        "id": "6XArwuFRJenw"
      },
      "execution_count": 8,
      "outputs": []
    },
    {
      "cell_type": "markdown",
      "source": [
        "**Model Implementation:**"
      ],
      "metadata": {
        "id": "ADPMR7gz3bf1"
      }
    },
    {
      "cell_type": "code",
      "source": [
        "# Train model\n",
        "model_mn = MultinomialNB()\n",
        "model_mn.fit(X_train_mn, y_train_mn)\n",
        "\n",
        "# Predict\n",
        "y_pred_mn = model_mn.predict(X_test_mn)\n",
        "\n",
        "# Evaluation\n",
        "print(\"MultinomialNB Classification Report:\\n\", classification_report(y_test_mn, y_pred_mn))\n",
        "\n",
        "# Confusion Matrix\n",
        "cm_mn = confusion_matrix(y_test_mn, y_pred_mn)\n",
        "sns.heatmap(cm_mn, annot=True, fmt='d', cmap='Blues')\n",
        "plt.title(\"MultinomialNB Confusion Matrix\")\n",
        "plt.xlabel(\"Predicted\")\n",
        "plt.ylabel(\"Actual\")\n",
        "plt.show()\n"
      ],
      "metadata": {
        "colab": {
          "base_uri": "https://localhost:8080/",
          "height": 654
        },
        "id": "GMXaFxdHKAeX",
        "outputId": "2d7a7d26-cf6b-400e-c638-bf8d2d17c186"
      },
      "execution_count": 9,
      "outputs": [
        {
          "output_type": "stream",
          "name": "stdout",
          "text": [
            "MultinomialNB Classification Report:\n",
            "               precision    recall  f1-score   support\n",
            "\n",
            "           0       0.83      0.85      0.84     45612\n",
            "           1       0.27      0.25      0.26     10333\n",
            "\n",
            "    accuracy                           0.74     55945\n",
            "   macro avg       0.55      0.55      0.55     55945\n",
            "weighted avg       0.73      0.74      0.73     55945\n",
            "\n"
          ]
        },
        {
          "output_type": "display_data",
          "data": {
            "text/plain": [
              "<Figure size 640x480 with 2 Axes>"
            ],
            "image/png": "[encoded data removed]"
          },
          "metadata": {}
        }
      ]
    },
    {
      "cell_type": "code",
      "source": [
        "# Train model\n",
        "model_bn = BernoulliNB()\n",
        "model_bn.fit(X_train_bn, y_train_bn)\n",
        "\n",
        "# Predict\n",
        "y_pred_bn = model_bn.predict(X_test_bn)\n",
        "\n",
        "# Evaluation\n",
        "print(\"BernoulliNB Classification Report:\\n\", classification_report(y_test_bn, y_pred_bn))\n",
        "\n",
        "# Confusion Matrix\n",
        "cm_bn = confusion_matrix(y_test_bn, y_pred_bn)\n",
        "sns.heatmap(cm_bn, annot=True, fmt='d', cmap='Greens')\n",
        "plt.title(\"BernoulliNB Confusion Matrix\")\n",
        "plt.xlabel(\"Predicted\")\n",
        "plt.ylabel(\"Actual\")\n",
        "plt.show()\n"
      ],
      "metadata": {
        "colab": {
          "base_uri": "https://localhost:8080/",
          "height": 654
        },
        "id": "BbYKFQ3gKDhj",
        "outputId": "4d163128-43c5-44dc-c801-0ac14aeddc8f"
      },
      "execution_count": 10,
      "outputs": [
        {
          "output_type": "stream",
          "name": "stdout",
          "text": [
            "BernoulliNB Classification Report:\n",
            "               precision    recall  f1-score   support\n",
            "\n",
            "           0       0.99      0.92      0.95     45612\n",
            "           1       0.72      0.96      0.83     10333\n",
            "\n",
            "    accuracy                           0.93     55945\n",
            "   macro avg       0.86      0.94      0.89     55945\n",
            "weighted avg       0.94      0.93      0.93     55945\n",
            "\n"
          ]
        },
        {
          "output_type": "display_data",
          "data": {
            "text/plain": [
              "<Figure size 640x480 with 2 Axes>"
            ],
            "image/png": "[encoded data removed]"
          },
          "metadata": {}
        }
      ]
    },
    {
      "cell_type": "code",
      "source": [
        "# Train model\n",
        "model_gn = GaussianNB()\n",
        "model_gn.fit(X_train_gn, y_train_gn)\n",
        "\n",
        "# Predict\n",
        "y_pred_gn = model_gn.predict(X_test_gn)\n",
        "\n",
        "# Evaluation\n",
        "print(\"GaussianNB Classification Report:\\n\", classification_report(y_test_gn, y_pred_gn))\n",
        "\n",
        "# Confusion Matrix\n",
        "cm_gn = confusion_matrix(y_test_gn, y_pred_gn)\n",
        "sns.heatmap(cm_gn, annot=True, fmt='d', cmap='Oranges')\n",
        "plt.title(\"GaussianNB Confusion Matrix\")\n",
        "plt.xlabel(\"Predicted\")\n",
        "plt.ylabel(\"Actual\")\n",
        "plt.show()\n"
      ],
      "metadata": {
        "colab": {
          "base_uri": "https://localhost:8080/",
          "height": 654
        },
        "id": "oiD-x1TcKHFZ",
        "outputId": "003af4d5-ccd6-4ca6-f5d2-3be449da35ca"
      },
      "execution_count": 11,
      "outputs": [
        {
          "output_type": "stream",
          "name": "stdout",
          "text": [
            "GaussianNB Classification Report:\n",
            "               precision    recall  f1-score   support\n",
            "\n",
            "           0       1.00      0.97      0.98     45612\n",
            "           1       0.87      1.00      0.93     10333\n",
            "\n",
            "    accuracy                           0.97     55945\n",
            "   macro avg       0.94      0.98      0.96     55945\n",
            "weighted avg       0.98      0.97      0.97     55945\n",
            "\n"
          ]
        },
        {
          "output_type": "display_data",
          "data": {
            "text/plain": [
              "<Figure size 640x480 with 2 Axes>"
            ],
            "image/png": "[encoded data removed]"
          },
          "metadata": {}
        }
      ]
    },
    {
      "cell_type": "code",
      "source": [],
      "metadata": {
        "id": "i6_C89uXKL0O"
      },
      "execution_count": null,
      "outputs": []
    }
  ]
}