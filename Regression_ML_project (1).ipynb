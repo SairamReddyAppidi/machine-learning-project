{
  "nbformat": 4,
  "nbformat_minor": 0,
  "metadata": {
    "colab": {
      "provenance": []
    },
    "kernelspec": {
      "name": "python3",
      "display_name": "Python 3"
    },
    "language_info": {
      "name": "python"
    }
  },
  "cells": [
    {
      "cell_type": "markdown",
      "source": [
        "**Regression:**"
      ],
      "metadata": {
        "id": "Ydiqw-yCmS6S"
      }
    },
    {
      "cell_type": "markdown",
      "source": [
        "**Data Preparation Code (Binary Target: DepDel15):**"
      ],
      "metadata": {
        "id": "XdQVB2YomNq3"
      }
    },
    {
      "cell_type": "code",
      "execution_count": 1,
      "metadata": {
        "id": "toOE69lXhebw"
      },
      "outputs": [],
      "source": [
        "import pandas as pd\n",
        "from sklearn.model_selection import train_test_split\n",
        "from sklearn.preprocessing import LabelEncoder"
      ]
    },
    {
      "cell_type": "code",
      "source": [
        "# Load the dataset\n",
        "df = pd.read_csv(\"cleaned_merged_data.csv\")"
      ],
      "metadata": {
        "id": "cF3wbIADivAo"
      },
      "execution_count": 2,
      "outputs": []
    },
    {
      "cell_type": "code",
      "source": [
        "# Drop rows with missing target values and convert target to integer\n",
        "df = df.dropna(subset=[\"DepDel15\"]).copy()\n",
        "df[\"DepDel15\"] = df[\"DepDel15\"].astype(int)"
      ],
      "metadata": {
        "id": "QtmdH8p1iu1l"
      },
      "execution_count": 3,
      "outputs": []
    },
    {
      "cell_type": "code",
      "source": [
        "# Define features and target\n",
        "features = ['Airline', 'Origin', 'Dest', 'DepTimeBlk', 'Month', 'DayOfWeek']\n",
        "X = df[features].astype(str)\n",
        "y = df[\"DepDel15\"]"
      ],
      "metadata": {
        "id": "Ak4nwDWCiuyU"
      },
      "execution_count": 4,
      "outputs": []
    },
    {
      "cell_type": "code",
      "source": [
        "# Encode categorical features\n",
        "for col in X.columns:\n",
        "    le = LabelEncoder()\n",
        "    X[col] = le.fit_transform(X[col])\n"
      ],
      "metadata": {
        "id": "9vGM7FX5iuvi"
      },
      "execution_count": 5,
      "outputs": []
    },
    {
      "cell_type": "markdown",
      "source": [
        "**Train-Test Split:**"
      ],
      "metadata": {
        "id": "JiVbOH6y4lWm"
      }
    },
    {
      "cell_type": "code",
      "source": [
        "# Split the data into train and test sets (80/20 split)\n",
        "X_train, X_test, y_train, y_test = train_test_split(X, y, test_size=0.2, random_state=42)\n",
        "print(X_train.head())\n",
        "print(X_test.head())\n",
        "print(y_train.head())\n",
        "print(y_test.head())"
      ],
      "metadata": {
        "colab": {
          "base_uri": "https://localhost:8080/"
        },
        "id": "Ue8w2YFeiusr",
        "outputId": "9a7fb04f-5aa1-4299-b960-96ca9c7893aa"
      },
      "execution_count": 6,
      "outputs": [
        {
          "output_type": "stream",
          "name": "stdout",
          "text": [
            "        Airline  Origin  Dest  DepTimeBlk  Month  DayOfWeek\n",
            "154306       15      60     0           5      3          6\n",
            "272581       15      28     0          10      0          2\n",
            "146735       11      36     0           2      3          0\n",
            "102246       12      63     0           8     11          2\n",
            "64063        11       8     0          11     10          1\n",
            "        Airline  Origin  Dest  DepTimeBlk  Month  DayOfWeek\n",
            "182623       12     121     0           4      9          0\n",
            "8558         15     163     0           7      6          5\n",
            "26629        11      90     0           9      4          0\n",
            "190965       11      94     0           1      7          5\n",
            "133316        7      97     0          17      1          1\n",
            "154306    0\n",
            "272581    0\n",
            "146735    0\n",
            "102246    0\n",
            "64063     0\n",
            "Name: DepDel15, dtype: int64\n",
            "182623    0\n",
            "8558      0\n",
            "26629     0\n",
            "190965    0\n",
            "133316    1\n",
            "Name: DepDel15, dtype: int64\n"
          ]
        }
      ]
    },
    {
      "cell_type": "markdown",
      "source": [
        "**Logistic Regression & Multinomial Naïve Bayes Modeling Code:**"
      ],
      "metadata": {
        "id": "5zpT-959jIm_"
      }
    },
    {
      "cell_type": "code",
      "source": [
        "from sklearn.linear_model import LogisticRegression\n",
        "from sklearn.naive_bayes import MultinomialNB\n",
        "\n",
        "# Train Logistic Regression\n",
        "logreg = LogisticRegression(max_iter=1000)\n",
        "logreg.fit(X_train, y_train)\n",
        "y_pred_logreg = logreg.predict(X_test)\n",
        "print(\"X_train (Features):\")\n",
        "print(X_train.head())\n",
        "# Display corresponding training labels\n",
        "print(\"\\ny_train (Target):\")\n",
        "print(y_train.head())\n"
      ],
      "metadata": {
        "colab": {
          "base_uri": "https://localhost:8080/"
        },
        "id": "DoU1fD__jD7z",
        "outputId": "0868c69b-009c-416a-d915-1c2a9e25d96c"
      },
      "execution_count": 7,
      "outputs": [
        {
          "output_type": "stream",
          "name": "stdout",
          "text": [
            "X_train (Features):\n",
            "        Airline  Origin  Dest  DepTimeBlk  Month  DayOfWeek\n",
            "154306       15      60     0           5      3          6\n",
            "272581       15      28     0          10      0          2\n",
            "146735       11      36     0           2      3          0\n",
            "102246       12      63     0           8     11          2\n",
            "64063        11       8     0          11     10          1\n",
            "\n",
            "y_train (Target):\n",
            "154306    0\n",
            "272581    0\n",
            "146735    0\n",
            "102246    0\n",
            "64063     0\n",
            "Name: DepDel15, dtype: int64\n"
          ]
        }
      ]
    },
    {
      "cell_type": "code",
      "source": [
        "# Train Multinomial Naive Bayes\n",
        "nb = MultinomialNB()\n",
        "nb.fit(X_train, y_train)\n",
        "y_pred_nb = nb.predict(X_test)\n",
        "print(\"X_train (Features):\")\n",
        "print(X_train.head())\n",
        "# Display corresponding training labels\n",
        "print(\"\\ny_train (Target):\")\n",
        "print(y_train.head())\n"
      ],
      "metadata": {
        "colab": {
          "base_uri": "https://localhost:8080/"
        },
        "id": "hMZMFwE4jZOj",
        "outputId": "5926ad9e-bfc1-4f20-b5d7-6b242afc4806"
      },
      "execution_count": 8,
      "outputs": [
        {
          "output_type": "stream",
          "name": "stdout",
          "text": [
            "X_train (Features):\n",
            "        Airline  Origin  Dest  DepTimeBlk  Month  DayOfWeek\n",
            "154306       15      60     0           5      3          6\n",
            "272581       15      28     0          10      0          2\n",
            "146735       11      36     0           2      3          0\n",
            "102246       12      63     0           8     11          2\n",
            "64063        11       8     0          11     10          1\n",
            "\n",
            "y_train (Target):\n",
            "154306    0\n",
            "272581    0\n",
            "146735    0\n",
            "102246    0\n",
            "64063     0\n",
            "Name: DepDel15, dtype: int64\n"
          ]
        }
      ]
    },
    {
      "cell_type": "code",
      "source": [
        "from sklearn.metrics import accuracy_score, classification_report, confusion_matrix\n",
        "import seaborn as sns\n",
        "import matplotlib.pyplot as plt"
      ],
      "metadata": {
        "id": "m3vwmaVhkIV_"
      },
      "execution_count": 9,
      "outputs": []
    },
    {
      "cell_type": "code",
      "source": [
        "def evaluate_model(y_test, y_pred, title):\n",
        "    print(f\"\\n {title}\")\n",
        "    print(\"Accuracy:\", accuracy_score(y_test, y_pred))\n",
        "    print(classification_report(y_test, y_pred))\n",
        "\n",
        "    cm = confusion_matrix(y_test, y_pred)\n",
        "    sns.heatmap(cm, annot=True, fmt='d', cmap='Blues')\n",
        "    plt.title(f\"{title} - Confusion Matrix\")\n",
        "    plt.xlabel(\"Predicted\")\n",
        "    plt.ylabel(\"Actual\")\n",
        "    plt.show()"
      ],
      "metadata": {
        "id": "LQL_x1UIkSVv"
      },
      "execution_count": 10,
      "outputs": []
    },
    {
      "cell_type": "markdown",
      "source": [
        "**Evaluation of the Models:**"
      ],
      "metadata": {
        "id": "QsvOKCTR4y78"
      }
    },
    {
      "cell_type": "code",
      "source": [
        "\n",
        "evaluate_model(y_test, y_pred_logreg, \"Logistic Regression\")\n"
      ],
      "metadata": {
        "colab": {
          "base_uri": "https://localhost:8080/",
          "height": 820
        },
        "id": "zg8AvA3bkSSZ",
        "outputId": "ee4b24ea-64e6-42b4-99b8-8155108594c0"
      },
      "execution_count": 11,
      "outputs": [
        {
          "output_type": "stream",
          "name": "stdout",
          "text": [
            "\n",
            " Logistic Regression\n",
            "Accuracy: 0.8153007417999821\n",
            "              precision    recall  f1-score   support\n",
            "\n",
            "           0       0.82      1.00      0.90     45612\n",
            "           1       0.00      0.00      0.00     10333\n",
            "\n",
            "    accuracy                           0.82     55945\n",
            "   macro avg       0.41      0.50      0.45     55945\n",
            "weighted avg       0.66      0.82      0.73     55945\n",
            "\n"
          ]
        },
        {
          "output_type": "stream",
          "name": "stderr",
          "text": [
            "/usr/local/lib/python3.11/dist-packages/sklearn/metrics/_classification.py:1565: UndefinedMetricWarning: Precision is ill-defined and being set to 0.0 in labels with no predicted samples. Use `zero_division` parameter to control this behavior.\n",
            "  _warn_prf(average, modifier, f\"{metric.capitalize()} is\", len(result))\n",
            "/usr/local/lib/python3.11/dist-packages/sklearn/metrics/_classification.py:1565: UndefinedMetricWarning: Precision is ill-defined and being set to 0.0 in labels with no predicted samples. Use `zero_division` parameter to control this behavior.\n",
            "  _warn_prf(average, modifier, f\"{metric.capitalize()} is\", len(result))\n",
            "/usr/local/lib/python3.11/dist-packages/sklearn/metrics/_classification.py:1565: UndefinedMetricWarning: Precision is ill-defined and being set to 0.0 in labels with no predicted samples. Use `zero_division` parameter to control this behavior.\n",
            "  _warn_prf(average, modifier, f\"{metric.capitalize()} is\", len(result))\n"
          ]
        },
        {
          "output_type": "display_data",
          "data": {
            "text/plain": [
              "<Figure size 640x480 with 2 Axes>"
            ],
            "image/png": "[encoded data removed]"
          },
          "metadata": {}
        }
      ]
    },
    {
      "cell_type": "code",
      "source": [
        "evaluate_model(y_test, y_pred_nb, \"Multinomial Naive Bayes\")"
      ],
      "metadata": {
        "colab": {
          "base_uri": "https://localhost:8080/",
          "height": 691
        },
        "id": "fOoVCtJikah3",
        "outputId": "72bb7ee7-f24e-4479-bd65-097cf33880d4"
      },
      "execution_count": 12,
      "outputs": [
        {
          "output_type": "stream",
          "name": "stdout",
          "text": [
            "\n",
            " Multinomial Naive Bayes\n",
            "Accuracy: 0.7404593797479667\n",
            "              precision    recall  f1-score   support\n",
            "\n",
            "           0       0.83      0.85      0.84     45612\n",
            "           1       0.27      0.25      0.26     10333\n",
            "\n",
            "    accuracy                           0.74     55945\n",
            "   macro avg       0.55      0.55      0.55     55945\n",
            "weighted avg       0.73      0.74      0.73     55945\n",
            "\n"
          ]
        },
        {
          "output_type": "display_data",
          "data": {
            "text/plain": [
              "<Figure size 640x480 with 2 Axes>"
            ],
            "image/png": "[encoded data removed]"
          },
          "metadata": {}
        }
      ]
    },
    {
      "cell_type": "code",
      "source": [],
      "metadata": {
        "id": "7BF8HzE7mCui"
      },
      "execution_count": 12,
      "outputs": []
    }
  ]
}